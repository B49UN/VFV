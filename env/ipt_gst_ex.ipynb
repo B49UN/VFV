{
 "cells": [
  {
   "cell_type": "code",
   "execution_count": 1,
   "metadata": {
    "collapsed": true
   },
   "outputs": [
    {
     "name": "stderr",
     "output_type": "stream",
     "text": [
      "/Users/bagun/VFV/venv/lib/python3.9/site-packages/urllib3/__init__.py:35: NotOpenSSLWarning: urllib3 v2 only supports OpenSSL 1.1.1+, currently the 'ssl' module is compiled with 'LibreSSL 2.8.3'. See: https://github.com/urllib3/urllib3/issues/3020\n",
      "  warnings.warn(\n",
      "/var/folders/c4/0rhshy_x60l1p75bp5mr7_d00000gn/T/ipykernel_45505/2110980665.py:2: DeprecationWarning: \n",
      "Pyarrow will become a required dependency of pandas in the next major release of pandas (pandas 3.0),\n",
      "(to allow more performant data types, such as the Arrow string type, and better interoperability with other libraries)\n",
      "but was not found to be installed on your system.\n",
      "If this would cause problems for you,\n",
      "please provide us feedback at https://github.com/pandas-dev/pandas/issues/54466\n",
      "        \n",
      "  import pandas as pd\n"
     ]
    }
   ],
   "source": [
    "import gspread\n",
    "import pandas as pd\n",
    "from oauth2client.service_account import ServiceAccountCredentials"
   ]
  },
  {
   "cell_type": "code",
   "execution_count": 2,
   "outputs": [],
   "source": [
    "# Authenticate with Google Sheets API\n",
    "scope = ['https://spreadsheets.google.com/feeds',\n",
    "         'https://www.googleapis.com/auth/drive']\n",
    "creds = ServiceAccountCredentials.from_json_keyfile_name('/Users/bagun/Documents/savvy-folio-413809-90235952e75e.json', scope)\n",
    "client = gspread.authorize(creds)\n",
    "\n",
    "# Open the spreadsheet and select the worksheet by name\n",
    "spreadsheet = client.open('Raw_Sentences')\n",
    "worksheet = spreadsheet.worksheet('sentences')"
   ],
   "metadata": {
    "collapsed": false
   }
  },
  {
   "cell_type": "code",
   "execution_count": 5,
   "outputs": [],
   "source": [
    "df = pd.DataFrame(worksheet.get_all_records())"
   ],
   "metadata": {
    "collapsed": false
   }
  },
  {
   "cell_type": "code",
   "execution_count": 18,
   "outputs": [
    {
     "data": {
      "text/plain": "                                            sentence  year  month  number  \\\n0  In small towns the same workman makes chairs a...  2017      3      31   \n1  And it is, of course, impossible for a man of\\...  2017      3      31   \n2  In large cities,\\non the other hand, because m...  2017      3      31   \n3  For instance, one man makes shoes for men, and...  2017      3      31   \n4  And there are places even where one man earns ...  2017      3      31   \n\n   order   Test123  \n0      1            \n1      2            \n2      3            \n3      4            \n4      5            ",
      "text/html": "<div>\n<style scoped>\n    .dataframe tbody tr th:only-of-type {\n        vertical-align: middle;\n    }\n\n    .dataframe tbody tr th {\n        vertical-align: top;\n    }\n\n    .dataframe thead th {\n        text-align: right;\n    }\n</style>\n<table border=\"1\" class=\"dataframe\">\n  <thead>\n    <tr style=\"text-align: right;\">\n      <th></th>\n      <th>sentence</th>\n      <th>year</th>\n      <th>month</th>\n      <th>number</th>\n      <th>order</th>\n      <th></th>\n      <th>Test123</th>\n    </tr>\n  </thead>\n  <tbody>\n    <tr>\n      <th>0</th>\n      <td>In small towns the same workman makes chairs a...</td>\n      <td>2017</td>\n      <td>3</td>\n      <td>31</td>\n      <td>1</td>\n      <td></td>\n      <td></td>\n    </tr>\n    <tr>\n      <th>1</th>\n      <td>And it is, of course, impossible for a man of\\...</td>\n      <td>2017</td>\n      <td>3</td>\n      <td>31</td>\n      <td>2</td>\n      <td></td>\n      <td></td>\n    </tr>\n    <tr>\n      <th>2</th>\n      <td>In large cities,\\non the other hand, because m...</td>\n      <td>2017</td>\n      <td>3</td>\n      <td>31</td>\n      <td>3</td>\n      <td></td>\n      <td></td>\n    </tr>\n    <tr>\n      <th>3</th>\n      <td>For instance, one man makes shoes for men, and...</td>\n      <td>2017</td>\n      <td>3</td>\n      <td>31</td>\n      <td>4</td>\n      <td></td>\n      <td></td>\n    </tr>\n    <tr>\n      <th>4</th>\n      <td>And there are places even where one man earns ...</td>\n      <td>2017</td>\n      <td>3</td>\n      <td>31</td>\n      <td>5</td>\n      <td></td>\n      <td></td>\n    </tr>\n  </tbody>\n</table>\n</div>"
     },
     "execution_count": 18,
     "metadata": {},
     "output_type": "execute_result"
    }
   ],
   "source": [
    "df.head()"
   ],
   "metadata": {
    "collapsed": false
   }
  },
  {
   "cell_type": "code",
   "execution_count": 25,
   "outputs": [
    {
     "data": {
      "text/plain": "True"
     },
     "execution_count": 25,
     "metadata": {},
     "output_type": "execute_result"
    }
   ],
   "source": [
    "df.iloc[7, 5]==''"
   ],
   "metadata": {
    "collapsed": false
   }
  },
  {
   "cell_type": "code",
   "execution_count": 13,
   "outputs": [],
   "source": [
    "sentences = df.loc[:, ['sentence']]"
   ],
   "metadata": {
    "collapsed": false
   }
  },
  {
   "cell_type": "code",
   "execution_count": 19,
   "outputs": [
    {
     "data": {
      "text/plain": "                                              sentence\n0    In small towns the same workman makes chairs a...\n1    And it is, of course, impossible for a man of\\...\n2    In large cities,\\non the other hand, because m...\n3    For instance, one man makes shoes for men, and...\n4    And there are places even where one man earns ...\n..                                                 ...\n194  For example, in late 2007 the science media wi...\n195  They each provided help to an unfamiliar and u...\n196  Rutte and Taborsky trained rats in a cooperati...\n197  Rats who had been helped previously by an unkn...\n198  Before this research was conducted, generalize...\n\n[199 rows x 1 columns]",
      "text/html": "<div>\n<style scoped>\n    .dataframe tbody tr th:only-of-type {\n        vertical-align: middle;\n    }\n\n    .dataframe tbody tr th {\n        vertical-align: top;\n    }\n\n    .dataframe thead th {\n        text-align: right;\n    }\n</style>\n<table border=\"1\" class=\"dataframe\">\n  <thead>\n    <tr style=\"text-align: right;\">\n      <th></th>\n      <th>sentence</th>\n    </tr>\n  </thead>\n  <tbody>\n    <tr>\n      <th>0</th>\n      <td>In small towns the same workman makes chairs a...</td>\n    </tr>\n    <tr>\n      <th>1</th>\n      <td>And it is, of course, impossible for a man of\\...</td>\n    </tr>\n    <tr>\n      <th>2</th>\n      <td>In large cities,\\non the other hand, because m...</td>\n    </tr>\n    <tr>\n      <th>3</th>\n      <td>For instance, one man makes shoes for men, and...</td>\n    </tr>\n    <tr>\n      <th>4</th>\n      <td>And there are places even where one man earns ...</td>\n    </tr>\n    <tr>\n      <th>...</th>\n      <td>...</td>\n    </tr>\n    <tr>\n      <th>194</th>\n      <td>For example, in late 2007 the science media wi...</td>\n    </tr>\n    <tr>\n      <th>195</th>\n      <td>They each provided help to an unfamiliar and u...</td>\n    </tr>\n    <tr>\n      <th>196</th>\n      <td>Rutte and Taborsky trained rats in a cooperati...</td>\n    </tr>\n    <tr>\n      <th>197</th>\n      <td>Rats who had been helped previously by an unkn...</td>\n    </tr>\n    <tr>\n      <th>198</th>\n      <td>Before this research was conducted, generalize...</td>\n    </tr>\n  </tbody>\n</table>\n<p>199 rows × 1 columns</p>\n</div>"
     },
     "execution_count": 19,
     "metadata": {},
     "output_type": "execute_result"
    }
   ],
   "source": [
    "sentences"
   ],
   "metadata": {
    "collapsed": false
   }
  },
  {
   "cell_type": "code",
   "execution_count": 32,
   "outputs": [
    {
     "name": "stdout",
     "output_type": "stream",
     "text": [
      "<Information>\n",
      "\tTotal 199 sentences, 0 sentences POS-analyzed\n"
     ]
    }
   ],
   "source": [
    "count = 0\n",
    "number_of_sts = df.shape[0]\n",
    "for i in range(number_of_sts):\n",
    "    if df.iloc[7, 5]=='':\n",
    "        count += 1\n",
    "print(f'<Information>\\n\\tTotal {number_of_sts} sentences, {number_of_sts - count} sentences POS-analyzed')"
   ],
   "metadata": {
    "collapsed": false
   }
  },
  {
   "cell_type": "code",
   "execution_count": null,
   "outputs": [],
   "source": [],
   "metadata": {
    "collapsed": false
   }
  }
 ],
 "metadata": {
  "kernelspec": {
   "display_name": "Python 3",
   "language": "python",
   "name": "python3"
  },
  "language_info": {
   "codemirror_mode": {
    "name": "ipython",
    "version": 2
   },
   "file_extension": ".py",
   "mimetype": "text/x-python",
   "name": "python",
   "nbconvert_exporter": "python",
   "pygments_lexer": "ipython2",
   "version": "2.7.6"
  }
 },
 "nbformat": 4,
 "nbformat_minor": 0
}
