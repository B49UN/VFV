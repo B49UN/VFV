{
 "cells": [
  {
   "cell_type": "code",
   "execution_count": 9,
   "outputs": [],
   "source": [
    "from openai import OpenAI\n",
    "import os\n",
    "from dotenv import load_dotenv, find_dotenv\n",
    "_ = load_dotenv(find_dotenv())\n",
    "OpenAI.api_key = os.getenv(\"OPENAI_API_KEY\")\n",
    "client = OpenAI()"
   ],
   "metadata": {
    "collapsed": false
   }
  },
  {
   "cell_type": "code",
   "execution_count": 10,
   "outputs": [],
   "source": [
    "def ana(sent):\n",
    "    completion = client.chat.completions.create(\n",
    "      model=\"gpt-3.5-turbo\",\n",
    "      messages=[\n",
    "        {\"role\": \"system\", \"content\": \"너는 영어를 잘 못하는 한국 학생들을 가르치는 영어 선생님이야. 네가 어떻게 답변해야 할지 그 규칙을 알려줄게. 1. 첫번째 줄은 분석 대상인 영어 문장을 <>안에 넣어서 보여줘. 2. 두번째 줄부터는 문장 성분(주어, 목적어, 동사 등)별로 한 줄을 작성해. 3. 그 순서는 (해당 영어 구절) - (문장 성분) - (한국어 해석) 순이야. 4. 만약 한 문장 성분이 한 단어가 아니라면, 즉, 구 또는 절로 이루어져 있다면 밑에 줄에 들여쓰기를 해서 해당 구 또는 절을 규칙 2., 3.,에 맞게 분석해. 5. 문장이 몇형식인지(1형식, 2형식, 3형식 등)을 알려줘. 6. 가장 마지막 줄에는 문장 전체의 한국어 해석을 적어줘. 모든 답변은 Markdown 형식으로 깔끔하게 정리해줘.\"},\n",
    "        {\"role\": \"user\", \"content\": \"Analyze sentence:\" + sent}\n",
    "      ]\n",
    "    )\n",
    "    print(completion.choices[0].message.content)\n",
    "\n"
   ],
   "metadata": {
    "collapsed": false
   }
  },
  {
   "cell_type": "code",
   "execution_count": 27,
   "outputs": [],
   "source": [
    "import gspread\n",
    "import pandas as pd\n",
    "from oauth2client.service_account import ServiceAccountCredentials\n",
    "\n",
    "# Authenticate with Google Sheets API\n",
    "scope = ['https://spreadsheets.google.com/feeds',\n",
    "             'https://www.googleapis.com/auth/drive']\n",
    "creds = ServiceAccountCredentials.from_json_keyfile_name(\n",
    "        '/Users/bagun/Documents/savvy-folio-413809-90235952e75e.json', scope)\n",
    "client = gspread.authorize(creds)\n",
    "\n",
    "# Open the spreadsheet and select the worksheet by name\n",
    "spreadsheet = client.open('Raw_Sentences')\n",
    "worksheet = spreadsheet.worksheet('sentences')\n",
    "df = pd.DataFrame(worksheet.get_all_records())"
   ],
   "metadata": {
    "collapsed": false
   }
  },
  {
   "cell_type": "code",
   "execution_count": 31,
   "outputs": [
    {
     "data": {
      "text/plain": "'I want my parents to spend more time with me.'"
     },
     "execution_count": 31,
     "metadata": {},
     "output_type": "execute_result"
    }
   ],
   "source": [
    "worksheet.cell(3, 1).value"
   ],
   "metadata": {
    "collapsed": false
   }
  },
  {
   "cell_type": "code",
   "execution_count": 63,
   "outputs": [
    {
     "ename": "IndexError",
     "evalue": "index 5 is out of bounds for axis 0 with size 5",
     "output_type": "error",
     "traceback": [
      "\u001B[0;31m---------------------------------------------------------------------------\u001B[0m",
      "\u001B[0;31mIndexError\u001B[0m                                Traceback (most recent call last)",
      "Cell \u001B[0;32mIn[63], line 4\u001B[0m\n\u001B[1;32m      2\u001B[0m number_of_sts \u001B[38;5;241m=\u001B[39m df\u001B[38;5;241m.\u001B[39mshape[\u001B[38;5;241m0\u001B[39m]\n\u001B[1;32m      3\u001B[0m \u001B[38;5;28;01mfor\u001B[39;00m i \u001B[38;5;129;01min\u001B[39;00m \u001B[38;5;28mrange\u001B[39m(number_of_sts):\n\u001B[0;32m----> 4\u001B[0m     \u001B[38;5;28;01mif\u001B[39;00m \u001B[43mdf\u001B[49m\u001B[38;5;241;43m.\u001B[39;49m\u001B[43miloc\u001B[49m\u001B[43m[\u001B[49m\u001B[43mi\u001B[49m\u001B[43m,\u001B[49m\u001B[43m \u001B[49m\u001B[38;5;241;43m5\u001B[39;49m\u001B[43m]\u001B[49m \u001B[38;5;241m==\u001B[39m \u001B[38;5;124m'\u001B[39m\u001B[38;5;124m'\u001B[39m:\n\u001B[1;32m      5\u001B[0m         count \u001B[38;5;241m+\u001B[39m\u001B[38;5;241m=\u001B[39m \u001B[38;5;241m1\u001B[39m\n",
      "File \u001B[0;32m~/VFV/venv/lib/python3.9/site-packages/pandas/core/indexing.py:1184\u001B[0m, in \u001B[0;36m_LocationIndexer.__getitem__\u001B[0;34m(self, key)\u001B[0m\n\u001B[1;32m   1182\u001B[0m     key \u001B[38;5;241m=\u001B[39m \u001B[38;5;28mtuple\u001B[39m(com\u001B[38;5;241m.\u001B[39mapply_if_callable(x, \u001B[38;5;28mself\u001B[39m\u001B[38;5;241m.\u001B[39mobj) \u001B[38;5;28;01mfor\u001B[39;00m x \u001B[38;5;129;01min\u001B[39;00m key)\n\u001B[1;32m   1183\u001B[0m     \u001B[38;5;28;01mif\u001B[39;00m \u001B[38;5;28mself\u001B[39m\u001B[38;5;241m.\u001B[39m_is_scalar_access(key):\n\u001B[0;32m-> 1184\u001B[0m         \u001B[38;5;28;01mreturn\u001B[39;00m \u001B[38;5;28;43mself\u001B[39;49m\u001B[38;5;241;43m.\u001B[39;49m\u001B[43mobj\u001B[49m\u001B[38;5;241;43m.\u001B[39;49m\u001B[43m_get_value\u001B[49m\u001B[43m(\u001B[49m\u001B[38;5;241;43m*\u001B[39;49m\u001B[43mkey\u001B[49m\u001B[43m,\u001B[49m\u001B[43m \u001B[49m\u001B[43mtakeable\u001B[49m\u001B[38;5;241;43m=\u001B[39;49m\u001B[38;5;28;43mself\u001B[39;49m\u001B[38;5;241;43m.\u001B[39;49m\u001B[43m_takeable\u001B[49m\u001B[43m)\u001B[49m\n\u001B[1;32m   1185\u001B[0m     \u001B[38;5;28;01mreturn\u001B[39;00m \u001B[38;5;28mself\u001B[39m\u001B[38;5;241m.\u001B[39m_getitem_tuple(key)\n\u001B[1;32m   1186\u001B[0m \u001B[38;5;28;01melse\u001B[39;00m:\n\u001B[1;32m   1187\u001B[0m     \u001B[38;5;66;03m# we by definition only have the 0th axis\u001B[39;00m\n",
      "File \u001B[0;32m~/VFV/venv/lib/python3.9/site-packages/pandas/core/frame.py:4199\u001B[0m, in \u001B[0;36mDataFrame._get_value\u001B[0;34m(self, index, col, takeable)\u001B[0m\n\u001B[1;32m   4180\u001B[0m \u001B[38;5;250m\u001B[39m\u001B[38;5;124;03m\"\"\"\u001B[39;00m\n\u001B[1;32m   4181\u001B[0m \u001B[38;5;124;03mQuickly retrieve single value at passed column and index.\u001B[39;00m\n\u001B[1;32m   4182\u001B[0m \n\u001B[0;32m   (...)\u001B[0m\n\u001B[1;32m   4196\u001B[0m \u001B[38;5;124;03m`self.columns._index_as_unique`; Caller is responsible for checking.\u001B[39;00m\n\u001B[1;32m   4197\u001B[0m \u001B[38;5;124;03m\"\"\"\u001B[39;00m\n\u001B[1;32m   4198\u001B[0m \u001B[38;5;28;01mif\u001B[39;00m takeable:\n\u001B[0;32m-> 4199\u001B[0m     series \u001B[38;5;241m=\u001B[39m \u001B[38;5;28;43mself\u001B[39;49m\u001B[38;5;241;43m.\u001B[39;49m\u001B[43m_ixs\u001B[49m\u001B[43m(\u001B[49m\u001B[43mcol\u001B[49m\u001B[43m,\u001B[49m\u001B[43m \u001B[49m\u001B[43maxis\u001B[49m\u001B[38;5;241;43m=\u001B[39;49m\u001B[38;5;241;43m1\u001B[39;49m\u001B[43m)\u001B[49m\n\u001B[1;32m   4200\u001B[0m     \u001B[38;5;28;01mreturn\u001B[39;00m series\u001B[38;5;241m.\u001B[39m_values[index]\n\u001B[1;32m   4202\u001B[0m series \u001B[38;5;241m=\u001B[39m \u001B[38;5;28mself\u001B[39m\u001B[38;5;241m.\u001B[39m_get_item_cache(col)\n",
      "File \u001B[0;32m~/VFV/venv/lib/python3.9/site-packages/pandas/core/frame.py:3996\u001B[0m, in \u001B[0;36mDataFrame._ixs\u001B[0;34m(self, i, axis)\u001B[0m\n\u001B[1;32m   3992\u001B[0m     \u001B[38;5;28;01mreturn\u001B[39;00m result\n\u001B[1;32m   3994\u001B[0m \u001B[38;5;66;03m# icol\u001B[39;00m\n\u001B[1;32m   3995\u001B[0m \u001B[38;5;28;01melse\u001B[39;00m:\n\u001B[0;32m-> 3996\u001B[0m     label \u001B[38;5;241m=\u001B[39m \u001B[38;5;28;43mself\u001B[39;49m\u001B[38;5;241;43m.\u001B[39;49m\u001B[43mcolumns\u001B[49m\u001B[43m[\u001B[49m\u001B[43mi\u001B[49m\u001B[43m]\u001B[49m\n\u001B[1;32m   3998\u001B[0m     col_mgr \u001B[38;5;241m=\u001B[39m \u001B[38;5;28mself\u001B[39m\u001B[38;5;241m.\u001B[39m_mgr\u001B[38;5;241m.\u001B[39miget(i)\n\u001B[1;32m   3999\u001B[0m     result \u001B[38;5;241m=\u001B[39m \u001B[38;5;28mself\u001B[39m\u001B[38;5;241m.\u001B[39m_box_col_values(col_mgr, i)\n",
      "File \u001B[0;32m~/VFV/venv/lib/python3.9/site-packages/pandas/core/indexes/base.py:5385\u001B[0m, in \u001B[0;36mIndex.__getitem__\u001B[0;34m(self, key)\u001B[0m\n\u001B[1;32m   5382\u001B[0m \u001B[38;5;28;01mif\u001B[39;00m is_integer(key) \u001B[38;5;129;01mor\u001B[39;00m is_float(key):\n\u001B[1;32m   5383\u001B[0m     \u001B[38;5;66;03m# GH#44051 exclude bool, which would return a 2d ndarray\u001B[39;00m\n\u001B[1;32m   5384\u001B[0m     key \u001B[38;5;241m=\u001B[39m com\u001B[38;5;241m.\u001B[39mcast_scalar_indexer(key)\n\u001B[0;32m-> 5385\u001B[0m     \u001B[38;5;28;01mreturn\u001B[39;00m \u001B[43mgetitem\u001B[49m\u001B[43m(\u001B[49m\u001B[43mkey\u001B[49m\u001B[43m)\u001B[49m\n\u001B[1;32m   5387\u001B[0m \u001B[38;5;28;01mif\u001B[39;00m \u001B[38;5;28misinstance\u001B[39m(key, \u001B[38;5;28mslice\u001B[39m):\n\u001B[1;32m   5388\u001B[0m     \u001B[38;5;66;03m# This case is separated from the conditional above to avoid\u001B[39;00m\n\u001B[1;32m   5389\u001B[0m     \u001B[38;5;66;03m# pessimization com.is_bool_indexer and ndim checks.\u001B[39;00m\n\u001B[1;32m   5390\u001B[0m     \u001B[38;5;28;01mreturn\u001B[39;00m \u001B[38;5;28mself\u001B[39m\u001B[38;5;241m.\u001B[39m_getitem_slice(key)\n",
      "\u001B[0;31mIndexError\u001B[0m: index 5 is out of bounds for axis 0 with size 5"
     ]
    }
   ],
   "source": [
    "count = 0\n",
    "number_of_sts = df.shape[0]\n",
    "for i in range(number_of_sts):\n",
    "    if df.iloc[i, 5] == '':\n",
    "        count += 1"
   ],
   "metadata": {
    "collapsed": false
   }
  },
  {
   "cell_type": "code",
   "execution_count": 7,
   "outputs": [
    {
     "ename": "IndexError",
     "evalue": "index 5 is out of bounds for axis 0 with size 5",
     "output_type": "error",
     "traceback": [
      "\u001B[0;31m---------------------------------------------------------------------------\u001B[0m",
      "\u001B[0;31mIndexError\u001B[0m                                Traceback (most recent call last)",
      "Cell \u001B[0;32mIn[7], line 1\u001B[0m\n\u001B[0;32m----> 1\u001B[0m \u001B[43mdf\u001B[49m\u001B[38;5;241;43m.\u001B[39;49m\u001B[43miloc\u001B[49m\u001B[43m[\u001B[49m\u001B[38;5;241;43m3\u001B[39;49m\u001B[43m,\u001B[49m\u001B[43m \u001B[49m\u001B[38;5;241;43m5\u001B[39;49m\u001B[43m]\u001B[49m\n",
      "File \u001B[0;32m~/VFV/venv/lib/python3.9/site-packages/pandas/core/indexing.py:1184\u001B[0m, in \u001B[0;36m_LocationIndexer.__getitem__\u001B[0;34m(self, key)\u001B[0m\n\u001B[1;32m   1182\u001B[0m     key \u001B[38;5;241m=\u001B[39m \u001B[38;5;28mtuple\u001B[39m(com\u001B[38;5;241m.\u001B[39mapply_if_callable(x, \u001B[38;5;28mself\u001B[39m\u001B[38;5;241m.\u001B[39mobj) \u001B[38;5;28;01mfor\u001B[39;00m x \u001B[38;5;129;01min\u001B[39;00m key)\n\u001B[1;32m   1183\u001B[0m     \u001B[38;5;28;01mif\u001B[39;00m \u001B[38;5;28mself\u001B[39m\u001B[38;5;241m.\u001B[39m_is_scalar_access(key):\n\u001B[0;32m-> 1184\u001B[0m         \u001B[38;5;28;01mreturn\u001B[39;00m \u001B[38;5;28;43mself\u001B[39;49m\u001B[38;5;241;43m.\u001B[39;49m\u001B[43mobj\u001B[49m\u001B[38;5;241;43m.\u001B[39;49m\u001B[43m_get_value\u001B[49m\u001B[43m(\u001B[49m\u001B[38;5;241;43m*\u001B[39;49m\u001B[43mkey\u001B[49m\u001B[43m,\u001B[49m\u001B[43m \u001B[49m\u001B[43mtakeable\u001B[49m\u001B[38;5;241;43m=\u001B[39;49m\u001B[38;5;28;43mself\u001B[39;49m\u001B[38;5;241;43m.\u001B[39;49m\u001B[43m_takeable\u001B[49m\u001B[43m)\u001B[49m\n\u001B[1;32m   1185\u001B[0m     \u001B[38;5;28;01mreturn\u001B[39;00m \u001B[38;5;28mself\u001B[39m\u001B[38;5;241m.\u001B[39m_getitem_tuple(key)\n\u001B[1;32m   1186\u001B[0m \u001B[38;5;28;01melse\u001B[39;00m:\n\u001B[1;32m   1187\u001B[0m     \u001B[38;5;66;03m# we by definition only have the 0th axis\u001B[39;00m\n",
      "File \u001B[0;32m~/VFV/venv/lib/python3.9/site-packages/pandas/core/frame.py:4199\u001B[0m, in \u001B[0;36mDataFrame._get_value\u001B[0;34m(self, index, col, takeable)\u001B[0m\n\u001B[1;32m   4180\u001B[0m \u001B[38;5;250m\u001B[39m\u001B[38;5;124;03m\"\"\"\u001B[39;00m\n\u001B[1;32m   4181\u001B[0m \u001B[38;5;124;03mQuickly retrieve single value at passed column and index.\u001B[39;00m\n\u001B[1;32m   4182\u001B[0m \n\u001B[0;32m   (...)\u001B[0m\n\u001B[1;32m   4196\u001B[0m \u001B[38;5;124;03m`self.columns._index_as_unique`; Caller is responsible for checking.\u001B[39;00m\n\u001B[1;32m   4197\u001B[0m \u001B[38;5;124;03m\"\"\"\u001B[39;00m\n\u001B[1;32m   4198\u001B[0m \u001B[38;5;28;01mif\u001B[39;00m takeable:\n\u001B[0;32m-> 4199\u001B[0m     series \u001B[38;5;241m=\u001B[39m \u001B[38;5;28;43mself\u001B[39;49m\u001B[38;5;241;43m.\u001B[39;49m\u001B[43m_ixs\u001B[49m\u001B[43m(\u001B[49m\u001B[43mcol\u001B[49m\u001B[43m,\u001B[49m\u001B[43m \u001B[49m\u001B[43maxis\u001B[49m\u001B[38;5;241;43m=\u001B[39;49m\u001B[38;5;241;43m1\u001B[39;49m\u001B[43m)\u001B[49m\n\u001B[1;32m   4200\u001B[0m     \u001B[38;5;28;01mreturn\u001B[39;00m series\u001B[38;5;241m.\u001B[39m_values[index]\n\u001B[1;32m   4202\u001B[0m series \u001B[38;5;241m=\u001B[39m \u001B[38;5;28mself\u001B[39m\u001B[38;5;241m.\u001B[39m_get_item_cache(col)\n",
      "File \u001B[0;32m~/VFV/venv/lib/python3.9/site-packages/pandas/core/frame.py:3996\u001B[0m, in \u001B[0;36mDataFrame._ixs\u001B[0;34m(self, i, axis)\u001B[0m\n\u001B[1;32m   3992\u001B[0m     \u001B[38;5;28;01mreturn\u001B[39;00m result\n\u001B[1;32m   3994\u001B[0m \u001B[38;5;66;03m# icol\u001B[39;00m\n\u001B[1;32m   3995\u001B[0m \u001B[38;5;28;01melse\u001B[39;00m:\n\u001B[0;32m-> 3996\u001B[0m     label \u001B[38;5;241m=\u001B[39m \u001B[38;5;28;43mself\u001B[39;49m\u001B[38;5;241;43m.\u001B[39;49m\u001B[43mcolumns\u001B[49m\u001B[43m[\u001B[49m\u001B[43mi\u001B[49m\u001B[43m]\u001B[49m\n\u001B[1;32m   3998\u001B[0m     col_mgr \u001B[38;5;241m=\u001B[39m \u001B[38;5;28mself\u001B[39m\u001B[38;5;241m.\u001B[39m_mgr\u001B[38;5;241m.\u001B[39miget(i)\n\u001B[1;32m   3999\u001B[0m     result \u001B[38;5;241m=\u001B[39m \u001B[38;5;28mself\u001B[39m\u001B[38;5;241m.\u001B[39m_box_col_values(col_mgr, i)\n",
      "File \u001B[0;32m~/VFV/venv/lib/python3.9/site-packages/pandas/core/indexes/base.py:5385\u001B[0m, in \u001B[0;36mIndex.__getitem__\u001B[0;34m(self, key)\u001B[0m\n\u001B[1;32m   5382\u001B[0m \u001B[38;5;28;01mif\u001B[39;00m is_integer(key) \u001B[38;5;129;01mor\u001B[39;00m is_float(key):\n\u001B[1;32m   5383\u001B[0m     \u001B[38;5;66;03m# GH#44051 exclude bool, which would return a 2d ndarray\u001B[39;00m\n\u001B[1;32m   5384\u001B[0m     key \u001B[38;5;241m=\u001B[39m com\u001B[38;5;241m.\u001B[39mcast_scalar_indexer(key)\n\u001B[0;32m-> 5385\u001B[0m     \u001B[38;5;28;01mreturn\u001B[39;00m \u001B[43mgetitem\u001B[49m\u001B[43m(\u001B[49m\u001B[43mkey\u001B[49m\u001B[43m)\u001B[49m\n\u001B[1;32m   5387\u001B[0m \u001B[38;5;28;01mif\u001B[39;00m \u001B[38;5;28misinstance\u001B[39m(key, \u001B[38;5;28mslice\u001B[39m):\n\u001B[1;32m   5388\u001B[0m     \u001B[38;5;66;03m# This case is separated from the conditional above to avoid\u001B[39;00m\n\u001B[1;32m   5389\u001B[0m     \u001B[38;5;66;03m# pessimization com.is_bool_indexer and ndim checks.\u001B[39;00m\n\u001B[1;32m   5390\u001B[0m     \u001B[38;5;28;01mreturn\u001B[39;00m \u001B[38;5;28mself\u001B[39m\u001B[38;5;241m.\u001B[39m_getitem_slice(key)\n",
      "\u001B[0;31mIndexError\u001B[0m: index 5 is out of bounds for axis 0 with size 5"
     ]
    }
   ],
   "source": [
    "df.iloc[3, 5]"
   ],
   "metadata": {
    "collapsed": false
   }
  },
  {
   "cell_type": "code",
   "execution_count": 8,
   "outputs": [],
   "source": [
    "worksheet2 = spreadsheet.worksheet('analysis')\n",
    "df2 = pd.DataFrame(worksheet2.get_all_records())"
   ],
   "metadata": {
    "collapsed": false
   }
  },
  {
   "cell_type": "code",
   "execution_count": 8,
   "outputs": [
    {
     "ename": "AttributeError",
     "evalue": "'Client' object has no attribute 'chat'",
     "output_type": "error",
     "traceback": [
      "\u001B[0;31m---------------------------------------------------------------------------\u001B[0m",
      "\u001B[0;31mAttributeError\u001B[0m                            Traceback (most recent call last)",
      "Cell \u001B[0;32mIn[8], line 2\u001B[0m\n\u001B[1;32m      1\u001B[0m samp_sen \u001B[38;5;241m=\u001B[39m df\u001B[38;5;241m.\u001B[39miloc[\u001B[38;5;241m0\u001B[39m, \u001B[38;5;241m0\u001B[39m]\n\u001B[0;32m----> 2\u001B[0m \u001B[43mana\u001B[49m\u001B[43m(\u001B[49m\u001B[43msamp_sen\u001B[49m\u001B[43m)\u001B[49m\n",
      "Cell \u001B[0;32mIn[7], line 2\u001B[0m, in \u001B[0;36mana\u001B[0;34m(sent)\u001B[0m\n\u001B[1;32m      1\u001B[0m \u001B[38;5;28;01mdef\u001B[39;00m \u001B[38;5;21mana\u001B[39m(sent):\n\u001B[0;32m----> 2\u001B[0m     completion \u001B[38;5;241m=\u001B[39m \u001B[43mclient\u001B[49m\u001B[38;5;241;43m.\u001B[39;49m\u001B[43mchat\u001B[49m\u001B[38;5;241m.\u001B[39mcompletions\u001B[38;5;241m.\u001B[39mcreate(\n\u001B[1;32m      3\u001B[0m       model\u001B[38;5;241m=\u001B[39m\u001B[38;5;124m\"\u001B[39m\u001B[38;5;124mgpt-3.5-turbo\u001B[39m\u001B[38;5;124m\"\u001B[39m,\n\u001B[1;32m      4\u001B[0m       messages\u001B[38;5;241m=\u001B[39m[\n\u001B[1;32m      5\u001B[0m         {\u001B[38;5;124m\"\u001B[39m\u001B[38;5;124mrole\u001B[39m\u001B[38;5;124m\"\u001B[39m: \u001B[38;5;124m\"\u001B[39m\u001B[38;5;124msystem\u001B[39m\u001B[38;5;124m\"\u001B[39m, \u001B[38;5;124m\"\u001B[39m\u001B[38;5;124mcontent\u001B[39m\u001B[38;5;124m\"\u001B[39m: \u001B[38;5;124m\"\u001B[39m\u001B[38;5;124m너는 영어를 잘 못하는 한국 학생들을 가르치는 영어 선생님이야. 네가 어떻게 답변해야 할지 그 규칙을 알려줄게. 1. 첫번째 줄은 분석 대상인 영어 문장을 <>안에 넣어서 보여줘. 2. 두번째 줄부터는 문장 성분(주어, 목적어, 동사 등)별로 한 줄을 작성해. 3. 그 순서는 (해당 영어 구절) - (문장 성분) - (한국어 해석) 순이야. 4. 만약 한 문장 성분이 한 단어가 아니라면, 즉, 구 또는 절로 이루어져 있다면 밑에 줄에 들여쓰기를 해서 해당 구 또는 절을 규칙 2., 3.,에 맞게 분석해. 5. 문장이 몇형식인지(1형식, 2형식, 3형식 등)을 알려줘. 6. 가장 마지막 줄에는 문장 전체의 한국어 해석을 적어줘. 모든 답변은 Markdown 형식으로 깔끔하게 정리해줘.\u001B[39m\u001B[38;5;124m\"\u001B[39m},\n\u001B[1;32m      6\u001B[0m         {\u001B[38;5;124m\"\u001B[39m\u001B[38;5;124mrole\u001B[39m\u001B[38;5;124m\"\u001B[39m: \u001B[38;5;124m\"\u001B[39m\u001B[38;5;124muser\u001B[39m\u001B[38;5;124m\"\u001B[39m, \u001B[38;5;124m\"\u001B[39m\u001B[38;5;124mcontent\u001B[39m\u001B[38;5;124m\"\u001B[39m: \u001B[38;5;124m\"\u001B[39m\u001B[38;5;124mAnalyze sentence:\u001B[39m\u001B[38;5;124m\"\u001B[39m \u001B[38;5;241m+\u001B[39m sent}\n\u001B[1;32m      7\u001B[0m       ]\n\u001B[1;32m      8\u001B[0m     )\n\u001B[1;32m      9\u001B[0m     \u001B[38;5;28mprint\u001B[39m(completion\u001B[38;5;241m.\u001B[39mchoices[\u001B[38;5;241m0\u001B[39m]\u001B[38;5;241m.\u001B[39mmessage\u001B[38;5;241m.\u001B[39mcontent)\n",
      "\u001B[0;31mAttributeError\u001B[0m: 'Client' object has no attribute 'chat'"
     ]
    }
   ],
   "source": [
    "samp_sen = df.iloc[0, 0]\n",
    "ana(samp_sen)"
   ],
   "metadata": {
    "collapsed": false
   }
  },
  {
   "cell_type": "code",
   "execution_count": 11,
   "outputs": [
    {
     "name": "stdout",
     "output_type": "stream",
     "text": [
      "- I - 주어 - 나\n",
      "- have - 동사 - 가지다\n",
      "- an apple - 목적어 - 사과\n",
      "3형식\n",
      "나는 사과를 가지고 있다.\n"
     ]
    }
   ],
   "source": [
    "ana('I have an apple')"
   ],
   "metadata": {
    "collapsed": false
   }
  },
  {
   "cell_type": "code",
   "execution_count": 5,
   "outputs": [],
   "source": [
    "def ana1(sent):\n",
    "    completion = client.chat.completions.create(\n",
    "      model=\"gpt-3.5-turbo\",\n",
    "      messages=[\n",
    "        {\"role\": \"system\", \"content\": \"You are a bot that analyzes given sentences. Tell each components of sentence.\"},\n",
    "        {\"role\": \"user\", \"content\": \"Analyze sentence:\" + sent}\n",
    "      ]\n",
    "    )\n",
    "    print(completion.choices[0].message.content)\n"
   ],
   "metadata": {
    "collapsed": false
   }
  },
  {
   "cell_type": "code",
   "execution_count": 6,
   "outputs": [
    {
     "ename": "AttributeError",
     "evalue": "'Client' object has no attribute 'chat'",
     "output_type": "error",
     "traceback": [
      "\u001B[0;31m---------------------------------------------------------------------------\u001B[0m",
      "\u001B[0;31mAttributeError\u001B[0m                            Traceback (most recent call last)",
      "Cell \u001B[0;32mIn[6], line 1\u001B[0m\n\u001B[0;32m----> 1\u001B[0m \u001B[43mana1\u001B[49m\u001B[43m(\u001B[49m\u001B[43msamp_sen\u001B[49m\u001B[43m)\u001B[49m\n",
      "Cell \u001B[0;32mIn[5], line 2\u001B[0m, in \u001B[0;36mana1\u001B[0;34m(sent)\u001B[0m\n\u001B[1;32m      1\u001B[0m \u001B[38;5;28;01mdef\u001B[39;00m \u001B[38;5;21mana1\u001B[39m(sent):\n\u001B[0;32m----> 2\u001B[0m     completion \u001B[38;5;241m=\u001B[39m \u001B[43mclient\u001B[49m\u001B[38;5;241;43m.\u001B[39;49m\u001B[43mchat\u001B[49m\u001B[38;5;241m.\u001B[39mcompletions\u001B[38;5;241m.\u001B[39mcreate(\n\u001B[1;32m      3\u001B[0m       model\u001B[38;5;241m=\u001B[39m\u001B[38;5;124m\"\u001B[39m\u001B[38;5;124mgpt-3.5-turbo\u001B[39m\u001B[38;5;124m\"\u001B[39m,\n\u001B[1;32m      4\u001B[0m       messages\u001B[38;5;241m=\u001B[39m[\n\u001B[1;32m      5\u001B[0m         {\u001B[38;5;124m\"\u001B[39m\u001B[38;5;124mrole\u001B[39m\u001B[38;5;124m\"\u001B[39m: \u001B[38;5;124m\"\u001B[39m\u001B[38;5;124msystem\u001B[39m\u001B[38;5;124m\"\u001B[39m, \u001B[38;5;124m\"\u001B[39m\u001B[38;5;124mcontent\u001B[39m\u001B[38;5;124m\"\u001B[39m: \u001B[38;5;124m\"\u001B[39m\u001B[38;5;124mYou are a bot that analyzes given sentences. Tell each components of sentence.\u001B[39m\u001B[38;5;124m\"\u001B[39m},\n\u001B[1;32m      6\u001B[0m         {\u001B[38;5;124m\"\u001B[39m\u001B[38;5;124mrole\u001B[39m\u001B[38;5;124m\"\u001B[39m: \u001B[38;5;124m\"\u001B[39m\u001B[38;5;124muser\u001B[39m\u001B[38;5;124m\"\u001B[39m, \u001B[38;5;124m\"\u001B[39m\u001B[38;5;124mcontent\u001B[39m\u001B[38;5;124m\"\u001B[39m: \u001B[38;5;124m\"\u001B[39m\u001B[38;5;124mAnalyze sentence:\u001B[39m\u001B[38;5;124m\"\u001B[39m \u001B[38;5;241m+\u001B[39m sent}\n\u001B[1;32m      7\u001B[0m       ]\n\u001B[1;32m      8\u001B[0m     )\n\u001B[1;32m      9\u001B[0m     \u001B[38;5;28mprint\u001B[39m(completion\u001B[38;5;241m.\u001B[39mchoices[\u001B[38;5;241m0\u001B[39m]\u001B[38;5;241m.\u001B[39mmessage\u001B[38;5;241m.\u001B[39mcontent)\n",
      "\u001B[0;31mAttributeError\u001B[0m: 'Client' object has no attribute 'chat'"
     ]
    }
   ],
   "source": [
    "ana1(samp_sen)"
   ],
   "metadata": {
    "collapsed": false
   }
  },
  {
   "cell_type": "code",
   "execution_count": 23,
   "outputs": [
    {
     "name": "stdout",
     "output_type": "stream",
     "text": [
      "The island of Laputa, which floats in the sky, can only be accessed through a hidden portal at the edge of the world. It is a mythical place said to be inhabited by brilliant scientists and inventors who have mastered advanced technology beyond our comprehension.\n",
      "https://oaidalleapiprodscus.blob.core.windows.net/private/org-19yHY0dFMGAsJNd2GFzxcaqH/user-mZYzZjbam0MvUJXBxI9Yq4b5/img-VdghM8EzWOpAvQ97IFw1npud.png?st=2024-02-24T13%3A15%3A18Z&se=2024-02-24T15%3A15%3A18Z&sp=r&sv=2021-08-06&sr=b&rscd=inline&rsct=image/png&skoid=6aaadede-4fb3-4698-a8f6-684d7786b067&sktid=a48cca56-e6da-484e-a814-9c849652bcb3&skt=2024-02-23T17%3A57%3A50Z&ske=2024-02-24T17%3A57%3A50Z&sks=b&skv=2021-08-06&sig=%2B3P/qfZ4DZPAXcxK9HpuRLzbJSAh/lJb7gPmJ9TQuS4%3D\n"
     ]
    }
   ],
   "source": [
    "instr = '천공의 섬 라퓨타'\n",
    "completion = client.chat.completions.create(\n",
    "      model=\"gpt-3.5-turbo\",\n",
    "      messages=[\n",
    "        {\"role\": \"system\", \"content\": \"You will be given a sentence. Paraphrase it with more details. Answer as you are watching at certain drawing.\"},\n",
    "        {\"role\": \"user\", \"content\": instr}\n",
    "      ]\n",
    "    )\n",
    "expl = completion.choices[0].message.content\n",
    "print(expl)\n",
    "response = client.images.generate(\n",
    "  model=\"dall-e-3\",\n",
    "  prompt=expl,\n",
    "  size=\"1024x1024\",\n",
    "  quality=\"standard\",\n",
    "  n=1,\n",
    ")\n",
    "\n",
    "image_url = response.data[0].url\n",
    "print(image_url)"
   ],
   "metadata": {
    "collapsed": false
   }
  },
  {
   "cell_type": "code",
   "execution_count": 26,
   "outputs": [
    {
     "name": "stdout",
     "output_type": "stream",
     "text": [
      "https://oaidalleapiprodscus.blob.core.windows.net/private/org-19yHY0dFMGAsJNd2GFzxcaqH/user-mZYzZjbam0MvUJXBxI9Yq4b5/img-MHjJM8IGt4B9dsppwIN4GDC2.png?st=2024-02-24T13%3A17%3A17Z&se=2024-02-24T15%3A17%3A17Z&sp=r&sv=2021-08-06&sr=b&rscd=inline&rsct=image/png&skoid=6aaadede-4fb3-4698-a8f6-684d7786b067&sktid=a48cca56-e6da-484e-a814-9c849652bcb3&skt=2024-02-23T17%3A58%3A04Z&ske=2024-02-24T17%3A58%3A04Z&sks=b&skv=2021-08-06&sig=UEffcishusvScOn/PZv5G82ZTte8uunDkDOR2lE8tAI%3D\n"
     ]
    }
   ],
   "source": [
    "response = client.images.generate(\n",
    "  model=\"dall-e-3\",\n",
    "  prompt=\"천공의 섬 첨탑에서 바라본 노을진 들판을 그려줘. 그림에는 첨탑의 일부분도 보여야 되고, 노을진 하늘에서 저물어가는 태양도 보여야 해.\",\n",
    "  size=\"1024x1024\",\n",
    "  quality=\"standard\",\n",
    "  n=1,\n",
    ")\n",
    "\n",
    "image_url = response.data[0].url\n",
    "print(image_url)"
   ],
   "metadata": {
    "collapsed": false
   }
  },
  {
   "cell_type": "code",
   "execution_count": 1,
   "outputs": [],
   "source": [
    "import vfvlib"
   ],
   "metadata": {
    "collapsed": false
   }
  },
  {
   "cell_type": "code",
   "execution_count": 2,
   "outputs": [
    {
     "name": "stderr",
     "output_type": "stream",
     "text": [
      "/Users/bagun/VFV/venv/lib/python3.9/site-packages/urllib3/__init__.py:35: NotOpenSSLWarning: urllib3 v2 only supports OpenSSL 1.1.1+, currently the 'ssl' module is compiled with 'LibreSSL 2.8.3'. See: https://github.com/urllib3/urllib3/issues/3020\n",
      "  warnings.warn(\n"
     ]
    },
    {
     "name": "stdout",
     "output_type": "stream",
     "text": [
      "<Update>\n",
      "\t(22, 2) cell of sheet 'chunk' has been changed to 'test'\n"
     ]
    }
   ],
   "source": [
    "vfvlib.ipt_gsheet(3, 'chunk', 22, 2, 'test')"
   ],
   "metadata": {
    "collapsed": false
   }
  },
  {
   "cell_type": "code",
   "execution_count": null,
   "outputs": [],
   "source": [],
   "metadata": {
    "collapsed": false
   }
  }
 ],
 "metadata": {
  "kernelspec": {
   "display_name": "Python 3",
   "language": "python",
   "name": "python3"
  },
  "language_info": {
   "codemirror_mode": {
    "name": "ipython",
    "version": 2
   },
   "file_extension": ".py",
   "mimetype": "text/x-python",
   "name": "python",
   "nbconvert_exporter": "python",
   "pygments_lexer": "ipython2",
   "version": "2.7.6"
  }
 },
 "nbformat": 4,
 "nbformat_minor": 0
}
