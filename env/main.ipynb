{
 "cells": [
  {
   "cell_type": "code",
   "execution_count": 22,
   "outputs": [],
   "source": [
    "from typing import Optional\n",
    "from google.cloud import language\n",
    "\n",
    "def analyze_text_syntax(text: str) -> language.AnalyzeSyntaxResponse:\n",
    "    client = language.LanguageServiceClient()\n",
    "    document = language.Document(\n",
    "        content=text,\n",
    "        type_=language.Document.Type.PLAIN_TEXT,\n",
    "    )\n",
    "    return client.analyze_syntax(document=document)\n",
    "\n",
    "def get_token_info(token: Optional[language.Token]) -> list[str]:\n",
    "    parts = [\n",
    "        \"tag\",\n",
    "        \"aspect\",\n",
    "        \"case\",\n",
    "        \"form\",\n",
    "        \"gender\",\n",
    "        \"mood\",\n",
    "        \"number\",\n",
    "        \"person\",\n",
    "        \"proper\",\n",
    "        \"reciprocity\",\n",
    "        \"tense\",\n",
    "        \"voice\",\n",
    "    ]\n",
    "    if not token:\n",
    "        return [\"token\", \"lemma\"] + parts\n",
    "\n",
    "    text = token.text.content\n",
    "    lemma = token.lemma if token.lemma != token.text.content else \"\"\n",
    "    info = [text, lemma]\n",
    "    for part in parts:\n",
    "        pos = token.part_of_speech\n",
    "        info.append(getattr(pos, part).name if part in pos else \"\")\n",
    "\n",
    "    return info\n",
    "\n",
    "def show_text_syntax(response: language.AnalyzeSyntaxResponse):\n",
    "    import pandas as pd\n",
    "\n",
    "    tokens = len(response.tokens)\n",
    "    sentences = len(response.sentences)\n",
    "    columns = get_token_info(None)\n",
    "    data = (get_token_info(token) for token in response.tokens)\n",
    "    df = pd.DataFrame(columns=columns, data=data)\n",
    "    # Remove empty columns\n",
    "    empty_columns = [col for col in df if df[col].eq(\"\").all()]\n",
    "    df.drop(empty_columns, axis=1, inplace=True)\n",
    "\n",
    "    print(f\"Analyzed {tokens} token(s) from {sentences} sentence(s):\")\n",
    "    print(df.to_markdown(index=False, tablefmt=\"presto\"))\n"
   ],
   "metadata": {
    "collapsed": false
   }
  },
  {
   "cell_type": "code",
   "execution_count": 23,
   "outputs": [],
   "source": [
    "# Input\n",
    "text = \"\"\"Guido van Rossum is best known as the creator of Python.\n",
    "He was born in Haarlem, Netherlands.\n",
    "\"\"\"\n",
    "\n",
    "# Send a request to the API\n",
    "analyze_syntax_response = analyze_text_syntax(text)\n",
    "\n"
   ],
   "metadata": {
    "collapsed": false
   }
  },
  {
   "cell_type": "code",
   "execution_count": 24,
   "outputs": [
    {
     "name": "stdout",
     "output_type": "stream",
     "text": [
      "Analyzed 20 token(s) from 2 sentence(s):\n",
      " token       | lemma   | tag   | case       | gender    | mood       | number   | person   | proper   | tense   | voice\n",
      "-------------+---------+-------+------------+-----------+------------+----------+----------+----------+---------+---------\n",
      " Guido       |         | NOUN  |            |           |            | SINGULAR |          | PROPER   |         |\n",
      " van         |         | NOUN  |            |           |            | SINGULAR |          | PROPER   |         |\n",
      " Rossum      |         | NOUN  |            |           |            | SINGULAR |          | PROPER   |         |\n",
      " is          | be      | VERB  |            |           | INDICATIVE | SINGULAR | THIRD    |          | PRESENT |\n",
      " best        | well    | ADV   |            |           |            |          |          |          |         |\n",
      " known       | know    | VERB  |            |           |            |          |          |          | PAST    |\n",
      " as          |         | ADP   |            |           |            |          |          |          |         |\n",
      " the         |         | DET   |            |           |            |          |          |          |         |\n",
      " creator     |         | NOUN  |            |           |            | SINGULAR |          |          |         |\n",
      " of          |         | ADP   |            |           |            |          |          |          |         |\n",
      " Python      |         | NOUN  |            |           |            | SINGULAR |          | PROPER   |         |\n",
      " .           |         | PUNCT |            |           |            |          |          |          |         |\n",
      " He          |         | PRON  | NOMINATIVE | MASCULINE |            | SINGULAR | THIRD    |          |         |\n",
      " was         | be      | VERB  |            |           | INDICATIVE | SINGULAR | THIRD    |          | PAST    |\n",
      " born        | bear    | VERB  |            |           |            |          |          |          | PAST    | PASSIVE\n",
      " in          |         | ADP   |            |           |            |          |          |          |         |\n",
      " Haarlem     |         | NOUN  |            |           |            | SINGULAR |          | PROPER   |         |\n",
      " ,           |         | PUNCT |            |           |            |          |          |          |         |\n",
      " Netherlands |         | NOUN  |            |           |            | SINGULAR |          | PROPER   |         |\n",
      " .           |         | PUNCT |            |           |            |          |          |          |         |\n"
     ]
    }
   ],
   "source": [
    "# Show the results\n",
    "show_text_syntax(analyze_syntax_response)"
   ],
   "metadata": {
    "collapsed": false
   }
  },
  {
   "cell_type": "code",
   "execution_count": null,
   "outputs": [],
   "source": [],
   "metadata": {
    "collapsed": false,
    "pycharm": {
     "is_executing": true
    }
   }
  },
  {
   "cell_type": "code",
   "execution_count": 21,
   "outputs": [],
   "source": [],
   "metadata": {
    "collapsed": false
   }
  }
 ],
 "metadata": {
  "kernelspec": {
   "display_name": "Python 3",
   "language": "python",
   "name": "python3"
  },
  "language_info": {
   "codemirror_mode": {
    "name": "ipython",
    "version": 2
   },
   "file_extension": ".py",
   "mimetype": "text/x-python",
   "name": "python",
   "nbconvert_exporter": "python",
   "pygments_lexer": "ipython2",
   "version": "2.7.6"
  }
 },
 "nbformat": 4,
 "nbformat_minor": 0
}
