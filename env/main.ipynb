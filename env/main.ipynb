{
 "cells": [
  {
   "cell_type": "code",
   "execution_count": 1,
   "outputs": [],
   "source": [
    "import vfvlib"
   ],
   "metadata": {
    "collapsed": false
   }
  },
  {
   "cell_type": "code",
   "execution_count": 3,
   "outputs": [
    {
     "data": {
      "text/plain": "'In small towns the same workman makes chairs and doors and tables, and often the same person builds houses'"
     },
     "execution_count": 3,
     "metadata": {},
     "output_type": "execute_result"
    }
   ],
   "source": [
    "sts = vfvlib.ipt_gsheet(1)\n",
    "sts[0]"
   ],
   "metadata": {
    "collapsed": false
   }
  },
  {
   "cell_type": "code",
   "execution_count": 5,
   "outputs": [
    {
     "name": "stdout",
     "output_type": "stream",
     "text": [
      "<In small towns the same workman makes chairs and doors and tables, and often the same person builds houses.>\n",
      "- In - preposition - 에\n",
      "- small - adjective - 작은\n",
      "- towns - noun - 마을\n",
      "- the - determiner - 그\n",
      "- same - adjective - 같은\n",
      "- workman - noun - 일꾼\n",
      "- makes - verb - 만들다\n",
      "- chairs - noun - 의자\n",
      "- and - conjunction - 그리고\n",
      "- doors - noun - 문\n",
      "- and - conjunction - 그리고\n",
      "- tables - noun - 탁자\n",
      "- and - conjunction - 그리고\n",
      "- often - adverb - 자주\n",
      "- the - determiner - 그\n",
      "- same - adjective - 같은\n",
      "- person - noun - 사람\n",
      "- builds - verb - 짓다\n",
      "- houses - noun - 집\n",
      "그 작은 마을에서 같은 일꾼이 의자와 문과 탁자를 만들고, 종종 같은 사람이 집을 짓습니다.\n"
     ]
    }
   ],
   "source": [
    "print(vfvlib.structure_analysis(sts[0]))"
   ],
   "metadata": {
    "collapsed": false
   }
  },
  {
   "cell_type": "code",
   "execution_count": null,
   "outputs": [],
   "source": [],
   "metadata": {
    "collapsed": false
   }
  }
 ],
 "metadata": {
  "kernelspec": {
   "display_name": "Python 3",
   "language": "python",
   "name": "python3"
  },
  "language_info": {
   "codemirror_mode": {
    "name": "ipython",
    "version": 2
   },
   "file_extension": ".py",
   "mimetype": "text/x-python",
   "name": "python",
   "nbconvert_exporter": "python",
   "pygments_lexer": "ipython2",
   "version": "2.7.6"
  }
 },
 "nbformat": 4,
 "nbformat_minor": 0
}
