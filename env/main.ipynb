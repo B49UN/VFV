{
 "cells": [
  {
   "cell_type": "code",
   "execution_count": 1,
   "outputs": [],
   "source": [
    "import vfvlib"
   ],
   "metadata": {
    "collapsed": false
   }
  },
  {
   "cell_type": "code",
   "execution_count": 2,
   "outputs": [
    {
     "name": "stderr",
     "output_type": "stream",
     "text": [
      "/Users/bagun/VFV/venv/lib/python3.9/site-packages/urllib3/__init__.py:35: NotOpenSSLWarning: urllib3 v2 only supports OpenSSL 1.1.1+, currently the 'ssl' module is compiled with 'LibreSSL 2.8.3'. See: https://github.com/urllib3/urllib3/issues/3020\n",
      "  warnings.warn(\n"
     ]
    },
    {
     "data": {
      "text/plain": "'In small towns the same workman makes chairs and doors and tables, and often the same person builds houses'"
     },
     "execution_count": 2,
     "metadata": {},
     "output_type": "execute_result"
    }
   ],
   "source": [
    "sts = vfvlib.ipt_gsheet(1)\n",
    "sts[0]"
   ],
   "metadata": {
    "collapsed": false
   }
  },
  {
   "cell_type": "code",
   "execution_count": 3,
   "outputs": [
    {
     "name": "stdout",
     "output_type": "stream",
     "text": [
      "<In small towns the same workman makes chairs and doors and tables, and often the same person builds houses.>\n",
      "- In small towns - Prepositional phrase - Prepositional phrase - 작은 마을에서\n",
      "- the same workman - Subject - Noun phrase - 같은 작업자가\n",
      "- makes chairs and doors and tables - Predicate - Verb phrase - 의자와 문과 탁자를 만듭니다\n",
      "- often - Adverb - 부사 - 종종\n",
      "- the same person - Subject - Noun phrase - 같은 사람이\n",
      "- builds houses - Predicate - Verb phrase - 집을 짓습니다\n",
      "작은 마을에서 같은 작업자가 의자와 문과 탁자를 만들며, 종종 같은 사람이 집을 짓습니다.\n"
     ]
    }
   ],
   "source": [
    "print(vfvlib.structure_analysis_detail(sts[0]))"
   ],
   "metadata": {
    "collapsed": false
   }
  },
  {
   "cell_type": "code",
   "execution_count": null,
   "outputs": [],
   "source": [],
   "metadata": {
    "collapsed": false
   }
  }
 ],
 "metadata": {
  "kernelspec": {
   "display_name": "Python 3",
   "language": "python",
   "name": "python3"
  },
  "language_info": {
   "codemirror_mode": {
    "name": "ipython",
    "version": 2
   },
   "file_extension": ".py",
   "mimetype": "text/x-python",
   "name": "python",
   "nbconvert_exporter": "python",
   "pygments_lexer": "ipython2",
   "version": "2.7.6"
  }
 },
 "nbformat": 4,
 "nbformat_minor": 0
}
